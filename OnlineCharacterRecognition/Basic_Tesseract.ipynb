{
 "cells": [
  {
   "cell_type": "code",
   "execution_count": 2,
   "id": "9f7a7bdb-b7f7-41d9-a1c7-f51ed985a691",
   "metadata": {},
   "outputs": [],
   "source": [
    "from PIL import Image\n",
    "import cv2\n",
    "import pytesseract\n",
    "import numpy as np\n",
    "from pytesseract import Output"
   ]
  },
  {
   "cell_type": "code",
   "execution_count": 6,
   "id": "70064a64-65ec-448b-8027-4ebdba4a4b80",
   "metadata": {},
   "outputs": [],
   "source": [
    "img = np.array(Image.open('simple.jpg'))\n",
    "text = pytesseract.image_to_string(img)"
   ]
  },
  {
   "cell_type": "code",
   "execution_count": 7,
   "id": "f57e467f-45de-4358-89cb-eee73bc67cfd",
   "metadata": {},
   "outputs": [
    {
     "name": "stdout",
     "output_type": "stream",
     "text": [
      "Six examples of ways to\n",
      "take notes\n",
      "\n",
      "\n"
     ]
    }
   ],
   "source": [
    "print(text)"
   ]
  },
  {
   "cell_type": "code",
   "execution_count": 11,
   "id": "8da3f240-21a5-4295-ba8d-1098efb486c4",
   "metadata": {},
   "outputs": [
    {
     "data": {
      "text/plain": [
       "{'level': [1, 2, 3, 4, 5, 5, 5, 5, 5, 4, 5, 5, 2, 3, 4, 5],\n",
       " 'page_num': [1, 1, 1, 1, 1, 1, 1, 1, 1, 1, 1, 1, 1, 1, 1, 1],\n",
       " 'block_num': [0, 1, 1, 1, 1, 1, 1, 1, 1, 1, 1, 1, 2, 2, 2, 2],\n",
       " 'par_num': [0, 0, 1, 1, 1, 1, 1, 1, 1, 1, 1, 1, 0, 1, 1, 1],\n",
       " 'line_num': [0, 0, 0, 1, 1, 1, 1, 1, 1, 2, 2, 2, 0, 0, 1, 1],\n",
       " 'word_num': [0, 0, 0, 0, 1, 2, 3, 4, 5, 0, 1, 2, 0, 0, 0, 1],\n",
       " 'left': [0, 72, 72, 72, 72, 97, 172, 191, 232, 110, 110, 160, 22, 22, 22, 22],\n",
       " 'top': [0, 17, 17, 17, 17, 17, 17, 20, 18, 40, 40, 42, 58, 58, 58, 58],\n",
       " 'width': [320,\n",
       "  175,\n",
       "  175,\n",
       "  175,\n",
       "  20,\n",
       "  70,\n",
       "  14,\n",
       "  36,\n",
       "  15,\n",
       "  104,\n",
       "  43,\n",
       "  54,\n",
       "  274,\n",
       "  274,\n",
       "  274,\n",
       "  274],\n",
       " 'height': [240,\n",
       "  39,\n",
       "  39,\n",
       "  15,\n",
       "  12,\n",
       "  15,\n",
       "  12,\n",
       "  12,\n",
       "  11,\n",
       "  16,\n",
       "  16,\n",
       "  14,\n",
       "  154,\n",
       "  154,\n",
       "  154,\n",
       "  154],\n",
       " 'conf': [-1, -1, -1, -1, 96, 96, 97, 97, 82, -1, 96, 95, -1, -1, -1, 95],\n",
       " 'text': ['',\n",
       "  '',\n",
       "  '',\n",
       "  '',\n",
       "  'Six',\n",
       "  'examples',\n",
       "  'of',\n",
       "  'ways',\n",
       "  'to',\n",
       "  '',\n",
       "  'take',\n",
       "  'notes',\n",
       "  '',\n",
       "  '',\n",
       "  '',\n",
       "  '']}"
      ]
     },
     "execution_count": 11,
     "metadata": {},
     "output_type": "execute_result"
    }
   ],
   "source": [
    "results = pytesseract.image_to_data(img, output_type = Output.DICT)\n",
    "results"
   ]
  },
  {
   "cell_type": "code",
   "execution_count": 16,
   "id": "88a3b189-ed63-427d-83c0-b09d347a62fe",
   "metadata": {},
   "outputs": [],
   "source": [
    "for i in range(0, len(results[\"text\"])):\n",
    "    x = results[\"left\"][i]\n",
    "    y = results[\"top\"][i]\n",
    "    w = results[\"width\"][i]\n",
    "    h = results[\"height\"][i]\n",
    "    text = results[\"text\"][i]\n",
    "    conf = int(results[\"conf\"][i])  \n",
    "    if conf > 58:\n",
    "        text = \"\".join([c if ord(c) < 128 else \"\" for c in text]).strip()\n",
    "        cv2.rectangle(img, (x, y), (x + w, y + h), (0, 255, 0), 2)\n",
    "        cv2.putText(img, text, (x, y - 10), cv2.FONT_HERSHEY_SIMPLEX, 0.5, (0, 0, 200), 2)"
   ]
  },
  {
   "cell_type": "code",
   "execution_count": 18,
   "id": "8af78148-0d84-4be2-a9d4-f5da66aed73c",
   "metadata": {},
   "outputs": [
    {
     "ename": "KeyboardInterrupt",
     "evalue": "",
     "output_type": "error",
     "traceback": [
      "\u001b[0;31m---------------------------------------------------------------------------\u001b[0m",
      "\u001b[0;31mKeyboardInterrupt\u001b[0m                         Traceback (most recent call last)",
      "Cell \u001b[0;32mIn[18], line 2\u001b[0m\n\u001b[1;32m      1\u001b[0m cv2\u001b[38;5;241m.\u001b[39mimshow(\u001b[38;5;124m\"\u001b[39m\u001b[38;5;124m \u001b[39m\u001b[38;5;124m\"\u001b[39m,img)\n\u001b[0;32m----> 2\u001b[0m \u001b[43mcv2\u001b[49m\u001b[38;5;241;43m.\u001b[39;49m\u001b[43mwaitKey\u001b[49m\u001b[43m(\u001b[49m\u001b[38;5;241;43m0\u001b[39;49m\u001b[43m)\u001b[49m \n",
      "\u001b[0;31mKeyboardInterrupt\u001b[0m: "
     ]
    }
   ],
   "source": [
    "cv2.imshow(\" \",img)\n",
    " "
   ]
  },
  {
   "cell_type": "code",
   "execution_count": 19,
   "id": "7761b941-450a-49e3-970b-a31d83918675",
   "metadata": {},
   "outputs": [],
   "source": [
    "cv2.destroyAllWindows()"
   ]
  },
  {
   "cell_type": "code",
   "execution_count": null,
   "id": "09446445-3223-42c4-9cae-26d59ba53c75",
   "metadata": {},
   "outputs": [],
   "source": []
  }
 ],
 "metadata": {
  "kernelspec": {
   "display_name": "Python 3 (ipykernel)",
   "language": "python",
   "name": "python3"
  },
  "language_info": {
   "codemirror_mode": {
    "name": "ipython",
    "version": 3
   },
   "file_extension": ".py",
   "mimetype": "text/x-python",
   "name": "python",
   "nbconvert_exporter": "python",
   "pygments_lexer": "ipython3",
   "version": "3.12.3"
  }
 },
 "nbformat": 4,
 "nbformat_minor": 5
}
